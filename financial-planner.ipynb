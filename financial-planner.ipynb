{
  "cells": [
    {
      "cell_type": "markdown",
      "metadata": {
        "id": "pxD-K4sWhUZ_"
      },
      "source": [
        "# Unit 5 - Financial Planning"
      ]
    },
    {
      "cell_type": "code",
      "source": [
        "!pip install alpaca-trade-api\n",
        "!pip install python-dotenv"
      ],
      "metadata": {
        "colab": {
          "base_uri": "https://localhost:8080/"
        },
        "id": "w2pksXDoha8-",
        "outputId": "036b32c3-f2c4-4c0d-d892-6d4b94145335"
      },
      "execution_count": 5,
      "outputs": [
        {
          "output_type": "stream",
          "name": "stdout",
          "text": [
            "Requirement already satisfied: alpaca-trade-api in /usr/local/lib/python3.10/dist-packages (3.0.2)\n",
            "Requirement already satisfied: pandas>=0.18.1 in /usr/local/lib/python3.10/dist-packages (from alpaca-trade-api) (1.5.3)\n",
            "Requirement already satisfied: numpy>=1.11.1 in /usr/local/lib/python3.10/dist-packages (from alpaca-trade-api) (1.23.5)\n",
            "Requirement already satisfied: requests<3,>2 in /usr/local/lib/python3.10/dist-packages (from alpaca-trade-api) (2.31.0)\n",
            "Requirement already satisfied: urllib3<2,>1.24 in /usr/local/lib/python3.10/dist-packages (from alpaca-trade-api) (1.26.18)\n",
            "Requirement already satisfied: websocket-client<2,>=0.56.0 in /usr/local/lib/python3.10/dist-packages (from alpaca-trade-api) (1.6.4)\n",
            "Requirement already satisfied: websockets<11,>=9.0 in /usr/local/lib/python3.10/dist-packages (from alpaca-trade-api) (10.4)\n",
            "Requirement already satisfied: msgpack==1.0.3 in /usr/local/lib/python3.10/dist-packages (from alpaca-trade-api) (1.0.3)\n",
            "Requirement already satisfied: aiohttp==3.8.2 in /usr/local/lib/python3.10/dist-packages (from alpaca-trade-api) (3.8.2)\n",
            "Requirement already satisfied: PyYAML==6.0 in /usr/local/lib/python3.10/dist-packages (from alpaca-trade-api) (6.0)\n",
            "Requirement already satisfied: deprecation==2.1.0 in /usr/local/lib/python3.10/dist-packages (from alpaca-trade-api) (2.1.0)\n",
            "Requirement already satisfied: attrs>=17.3.0 in /usr/local/lib/python3.10/dist-packages (from aiohttp==3.8.2->alpaca-trade-api) (23.1.0)\n",
            "Requirement already satisfied: charset-normalizer<3.0,>=2.0 in /usr/local/lib/python3.10/dist-packages (from aiohttp==3.8.2->alpaca-trade-api) (2.1.1)\n",
            "Requirement already satisfied: multidict<6.0,>=4.5 in /usr/local/lib/python3.10/dist-packages (from aiohttp==3.8.2->alpaca-trade-api) (5.2.0)\n",
            "Requirement already satisfied: async-timeout<5.0,>=4.0.0a3 in /usr/local/lib/python3.10/dist-packages (from aiohttp==3.8.2->alpaca-trade-api) (4.0.3)\n",
            "Requirement already satisfied: yarl<2.0,>=1.0 in /usr/local/lib/python3.10/dist-packages (from aiohttp==3.8.2->alpaca-trade-api) (1.9.2)\n",
            "Requirement already satisfied: frozenlist>=1.1.1 in /usr/local/lib/python3.10/dist-packages (from aiohttp==3.8.2->alpaca-trade-api) (1.4.0)\n",
            "Requirement already satisfied: aiosignal>=1.1.2 in /usr/local/lib/python3.10/dist-packages (from aiohttp==3.8.2->alpaca-trade-api) (1.3.1)\n",
            "Requirement already satisfied: packaging in /usr/local/lib/python3.10/dist-packages (from deprecation==2.1.0->alpaca-trade-api) (23.2)\n",
            "Requirement already satisfied: python-dateutil>=2.8.1 in /usr/local/lib/python3.10/dist-packages (from pandas>=0.18.1->alpaca-trade-api) (2.8.2)\n",
            "Requirement already satisfied: pytz>=2020.1 in /usr/local/lib/python3.10/dist-packages (from pandas>=0.18.1->alpaca-trade-api) (2023.3.post1)\n",
            "Requirement already satisfied: idna<4,>=2.5 in /usr/local/lib/python3.10/dist-packages (from requests<3,>2->alpaca-trade-api) (3.4)\n",
            "Requirement already satisfied: certifi>=2017.4.17 in /usr/local/lib/python3.10/dist-packages (from requests<3,>2->alpaca-trade-api) (2023.7.22)\n",
            "Requirement already satisfied: six>=1.5 in /usr/local/lib/python3.10/dist-packages (from python-dateutil>=2.8.1->pandas>=0.18.1->alpaca-trade-api) (1.16.0)\n",
            "Requirement already satisfied: python-dotenv in /usr/local/lib/python3.10/dist-packages (1.0.0)\n"
          ]
        }
      ]
    },
    {
      "cell_type": "code",
      "execution_count": 6,
      "metadata": {
        "tags": [],
        "id": "aFpKTpZRhUaE"
      },
      "outputs": [],
      "source": [
        "import os\n",
        "import requests\n",
        "import pandas as pd\n",
        "import alpaca_trade_api as tradeapi\n",
        "from dotenv import load_dotenv\n",
        "from MCForecastTools import MCSimulation\n",
        "from datetime import datetime, timedelta\n",
        "\n",
        "%matplotlib inline"
      ]
    },
    {
      "cell_type": "code",
      "execution_count": 7,
      "metadata": {
        "tags": [],
        "colab": {
          "base_uri": "https://localhost:8080/"
        },
        "id": "IpEUu4TUhUaH",
        "outputId": "a65cf3f7-89c0-4549-b543-825084ad441c"
      },
      "outputs": [
        {
          "output_type": "execute_result",
          "data": {
            "text/plain": [
              "False"
            ]
          },
          "metadata": {},
          "execution_count": 7
        }
      ],
      "source": [
        "# Keys for interacting with the Alpaca Trade API are contained within the\n",
        "# the project's environment\n",
        "load_dotenv()"
      ]
    },
    {
      "cell_type": "markdown",
      "metadata": {
        "id": "p7ygXgAGhUaH"
      },
      "source": [
        "## Part 1 - Personal Finance Planner"
      ]
    },
    {
      "cell_type": "markdown",
      "metadata": {
        "id": "t2BzeNZDhUaI"
      },
      "source": [
        "### Collect Crypto Prices Using the `requests` Library"
      ]
    },
    {
      "cell_type": "code",
      "execution_count": 8,
      "metadata": {
        "tags": [],
        "id": "6b1aGNIvhUaI"
      },
      "outputs": [],
      "source": [
        "monthly_income = 12000.00\n",
        "\n",
        "#::::: CRYPTO ASSETS (Bitcoin and Ethereum) :::::\n",
        "my_btc = 1.2\n",
        "my_eth = 5.3"
      ]
    },
    {
      "cell_type": "code",
      "execution_count": 9,
      "metadata": {
        "tags": [],
        "id": "KvNanrEuhUaJ"
      },
      "outputs": [],
      "source": [
        "btc_url = \"https://api.alternative.me/v2/ticker/Bitcoin/?convert=USD\"\n",
        "eth_url = \"https://api.alternative.me/v2/ticker/Ethereum/?convert=USD\""
      ]
    },
    {
      "cell_type": "code",
      "execution_count": 10,
      "metadata": {
        "tags": [],
        "colab": {
          "base_uri": "https://localhost:8080/"
        },
        "id": "S889kQyThUaJ",
        "outputId": "929cc06f-b984-455e-ba7b-2de6e6ac757a"
      },
      "outputs": [
        {
          "output_type": "execute_result",
          "data": {
            "text/plain": [
              "34540.0"
            ]
          },
          "metadata": {},
          "execution_count": 10
        }
      ],
      "source": [
        "# `alternative.me`'s API requires indexing based off arbitrary values, hence the\n",
        "# `[\"1\"]` index\n",
        "btc_current_price = float(requests.get(btc_url).json()[\"data\"][\"1\"][\"quotes\"][\"USD\"][\"price\"])\n",
        "btc_current_price"
      ]
    },
    {
      "cell_type": "code",
      "execution_count": 11,
      "metadata": {
        "tags": [],
        "colab": {
          "base_uri": "https://localhost:8080/"
        },
        "id": "inOa_CtxhUaJ",
        "outputId": "fba1b009-ee8b-49df-e23a-ab3bcc2ef1a2"
      },
      "outputs": [
        {
          "output_type": "execute_result",
          "data": {
            "text/plain": [
              "1821.8"
            ]
          },
          "metadata": {},
          "execution_count": 11
        }
      ],
      "source": [
        "# `alternative.me`'s API requires indexing based off arbitrary values, hence the\n",
        "# `[\"1027\"]` index\n",
        "eth_current_price = float(requests.get(eth_url).json()[\"data\"][\"1027\"][\"quotes\"][\"USD\"][\"price\"])\n",
        "eth_current_price"
      ]
    },
    {
      "cell_type": "code",
      "execution_count": 12,
      "metadata": {
        "tags": [],
        "colab": {
          "base_uri": "https://localhost:8080/"
        },
        "id": "ml2hl0TmhUaK",
        "outputId": "3d573aab-43c5-4653-97e1-1196ae996339"
      },
      "outputs": [
        {
          "output_type": "stream",
          "name": "stdout",
          "text": [
            "The current value of your 1.2 BTC is $41448.00\n",
            "The current value of your 5.3 ETH is $9655.54\n"
          ]
        }
      ],
      "source": [
        "my_btc_value = btc_current_price * my_btc\n",
        "print(f\"The current value of your {my_btc} BTC is ${my_btc_value:0.2f}\")\n",
        "\n",
        "my_eth_value = eth_current_price * my_eth\n",
        "print(f\"The current value of your {my_eth} ETH is ${my_eth_value:0.2f}\")"
      ]
    },
    {
      "cell_type": "markdown",
      "metadata": {
        "id": "6eyX_rWPhUaK"
      },
      "source": [
        "### Collect Investments Data Using Alpaca: `SPY` (stocks) and `AGG` (bonds)"
      ]
    },
    {
      "cell_type": "code",
      "execution_count": 13,
      "metadata": {
        "tags": [],
        "id": "YaIAXfs7hUaK"
      },
      "outputs": [],
      "source": [
        "#::::: STOCK (iShares Core US Aggregate Bond ETF & SPDR S&P 500 ETF Trust) :::::\n",
        "my_agg = 200\n",
        "my_spy = 50"
      ]
    },
    {
      "cell_type": "code",
      "execution_count": 14,
      "metadata": {
        "tags": [],
        "colab": {
          "base_uri": "https://localhost:8080/",
          "height": 390
        },
        "id": "NwyFjCHmhUaL",
        "outputId": "aca0c4bf-7c4f-4840-f65b-9ff3bff059bf"
      },
      "outputs": [
        {
          "output_type": "stream",
          "name": "stdout",
          "text": [
            "None\n",
            "None\n"
          ]
        },
        {
          "output_type": "error",
          "ename": "ValueError",
          "evalue": "ignored",
          "traceback": [
            "\u001b[0;31m---------------------------------------------------------------------------\u001b[0m",
            "\u001b[0;31mValueError\u001b[0m                                Traceback (most recent call last)",
            "\u001b[0;32m<ipython-input-14-acf6e2b96bc6>\u001b[0m in \u001b[0;36m<cell line: 11>\u001b[0;34m()\u001b[0m\n\u001b[1;32m      9\u001b[0m \u001b[0;31m# Alpaca API object\u001b[0m\u001b[0;34m\u001b[0m\u001b[0;34m\u001b[0m\u001b[0m\n\u001b[1;32m     10\u001b[0m \u001b[0;31m# Version number not necessary to provide given package's default opts\u001b[0m\u001b[0;34m\u001b[0m\u001b[0;34m\u001b[0m\u001b[0m\n\u001b[0;32m---> 11\u001b[0;31m \u001b[0malpaca\u001b[0m \u001b[0;34m=\u001b[0m \u001b[0mtradeapi\u001b[0m\u001b[0;34m.\u001b[0m\u001b[0mREST\u001b[0m\u001b[0;34m(\u001b[0m\u001b[0malpaca_api_key\u001b[0m\u001b[0;34m,\u001b[0m \u001b[0malpaca_secret_key\u001b[0m\u001b[0;34m,\u001b[0m \u001b[0mapi_version\u001b[0m \u001b[0;34m=\u001b[0m \u001b[0;34m\"v2\"\u001b[0m\u001b[0;34m)\u001b[0m\u001b[0;34m\u001b[0m\u001b[0;34m\u001b[0m\u001b[0m\n\u001b[0m",
            "\u001b[0;32m/usr/local/lib/python3.10/dist-packages/alpaca_trade_api/rest.py\u001b[0m in \u001b[0;36m__init__\u001b[0;34m(self, key_id, secret_key, base_url, api_version, oauth, raw_data)\u001b[0m\n\u001b[1;32m    166\u001b[0m                          \u001b[0mEntity\u001b[0m \u001b[0mobjects\u001b[0m\u001b[0;34m.\u001b[0m\u001b[0;34m\u001b[0m\u001b[0;34m\u001b[0m\u001b[0m\n\u001b[1;32m    167\u001b[0m         \"\"\"\n\u001b[0;32m--> 168\u001b[0;31m         self._key_id, self._secret_key, self._oauth = get_credentials(\n\u001b[0m\u001b[1;32m    169\u001b[0m             key_id, secret_key, oauth)\n\u001b[1;32m    170\u001b[0m         \u001b[0mself\u001b[0m\u001b[0;34m.\u001b[0m\u001b[0m_base_url\u001b[0m\u001b[0;34m:\u001b[0m \u001b[0mURL\u001b[0m \u001b[0;34m=\u001b[0m \u001b[0mURL\u001b[0m\u001b[0;34m(\u001b[0m\u001b[0mbase_url\u001b[0m \u001b[0;32mor\u001b[0m \u001b[0mget_base_url\u001b[0m\u001b[0;34m(\u001b[0m\u001b[0;34m)\u001b[0m\u001b[0;34m)\u001b[0m\u001b[0;34m\u001b[0m\u001b[0;34m\u001b[0m\u001b[0m\n",
            "\u001b[0;32m/usr/local/lib/python3.10/dist-packages/alpaca_trade_api/common.py\u001b[0m in \u001b[0;36mget_credentials\u001b[0;34m(key_id, secret_key, oauth)\u001b[0m\n\u001b[1;32m     82\u001b[0m     \u001b[0mkey_id\u001b[0m \u001b[0;34m=\u001b[0m \u001b[0mkey_id\u001b[0m \u001b[0;32mor\u001b[0m \u001b[0mos\u001b[0m\u001b[0;34m.\u001b[0m\u001b[0menviron\u001b[0m\u001b[0;34m.\u001b[0m\u001b[0mget\u001b[0m\u001b[0;34m(\u001b[0m\u001b[0;34m'APCA_API_KEY_ID'\u001b[0m\u001b[0;34m)\u001b[0m\u001b[0;34m\u001b[0m\u001b[0;34m\u001b[0m\u001b[0m\n\u001b[1;32m     83\u001b[0m     \u001b[0;32mif\u001b[0m \u001b[0mkey_id\u001b[0m \u001b[0;32mis\u001b[0m \u001b[0;32mNone\u001b[0m \u001b[0;32mand\u001b[0m \u001b[0moauth\u001b[0m \u001b[0;32mis\u001b[0m \u001b[0;32mNone\u001b[0m\u001b[0;34m:\u001b[0m\u001b[0;34m\u001b[0m\u001b[0;34m\u001b[0m\u001b[0m\n\u001b[0;32m---> 84\u001b[0;31m         raise ValueError('Key ID must be given to access Alpaca trade API',\n\u001b[0m\u001b[1;32m     85\u001b[0m                          ' (env: APCA_API_KEY_ID)')\n\u001b[1;32m     86\u001b[0m \u001b[0;34m\u001b[0m\u001b[0m\n",
            "\u001b[0;31mValueError\u001b[0m: ('Key ID must be given to access Alpaca trade API', ' (env: APCA_API_KEY_ID)')"
          ]
        }
      ],
      "source": [
        "alpaca_api_key = os.getenv(\"ALPACA_API_KEY\")\n",
        "print(alpaca_api_key)\n",
        "\n",
        "alpaca_secret_key = os.getenv(\"ALPACA_API_SECRET_KEY\")\n",
        "print(alpaca_secret_key)\n",
        "\n",
        "\n",
        "alpaca = tradeapi.REST(alpaca_api_key, alpaca_secret_key, api_version = \"v2\")"
      ]
    },
    {
      "cell_type": "code",
      "execution_count": 16,
      "metadata": {
        "colab": {
          "base_uri": "https://localhost:8080/",
          "height": 245
        },
        "id": "8WgM6aFVhUaL",
        "outputId": "4a102d32-a0d3-4dec-fb75-93934b5c97ce"
      },
      "outputs": [
        {
          "output_type": "error",
          "ename": "NameError",
          "evalue": "ignored",
          "traceback": [
            "\u001b[0;31m---------------------------------------------------------------------------\u001b[0m",
            "\u001b[0;31mNameError\u001b[0m                                 Traceback (most recent call last)",
            "\u001b[0;32m<ipython-input-16-232e9a241f28>\u001b[0m in \u001b[0;36m<cell line: 16>\u001b[0;34m()\u001b[0m\n\u001b[1;32m     14\u001b[0m \u001b[0;31m# request the API\u001b[0m\u001b[0;34m\u001b[0m\u001b[0;34m\u001b[0m\u001b[0m\n\u001b[1;32m     15\u001b[0m \u001b[0;31m# https://alpaca.markets/deprecated/docs/api-documentation/api-v2/market-data/alpaca-data-api-v1/bars/\u001b[0m\u001b[0;34m\u001b[0m\u001b[0;34m\u001b[0m\u001b[0m\n\u001b[0;32m---> 16\u001b[0;31m df_portfolio = alpaca.get_bars(\n\u001b[0m\u001b[1;32m     17\u001b[0m     \u001b[0mtickers\u001b[0m\u001b[0;34m,\u001b[0m\u001b[0;34m\u001b[0m\u001b[0;34m\u001b[0m\u001b[0m\n\u001b[1;32m     18\u001b[0m     \u001b[0mtimeframe\u001b[0m\u001b[0;34m,\u001b[0m\u001b[0;34m\u001b[0m\u001b[0;34m\u001b[0m\u001b[0m\n",
            "\u001b[0;31mNameError\u001b[0m: name 'alpaca' is not defined"
          ]
        }
      ],
      "source": [
        "# Alpaca Trade API requires dates to passed in the ISO format\n",
        "date = pd.Timestamp(\"2023-10-23\", tz=\"America/New_York\").isoformat()\n",
        "\n",
        "\n",
        "tickers = [\"AGG\", \"SPY\"]\n",
        "\n",
        "\n",
        "# Alpaca Trade API requires a timeframe parameter in the format as rougly\n",
        "# shown by the following string\n",
        "timeframe = \"1Day\"\n",
        "\n",
        "\n",
        "# Using the provided `get_bars` function in the `alpaca_trade_package` to\n",
        "# request the API\n",
        "# https://alpaca.markets/deprecated/docs/api-documentation/api-v2/market-data/alpaca-data-api-v1/bars/\n",
        "df_portfolio = alpaca.get_bars(\n",
        "    tickers,\n",
        "    timeframe,\n",
        "    start = date,\n",
        "    end = date\n",
        ").df\n",
        "\n",
        "# Seperate the combined given data as located in `df_portfolio` into two\n",
        "# DataFrame objects to improve formatting of the resulting DataFrame\n",
        "AGG = df_portfolio[df_portfolio[\"symbol\"]==\"AGG\"].drop(\"symbol\", axis = 1)\n",
        "SPY = df_portfolio[df_portfolio[\"symbol\"]==\"SPY\"].drop(\"symbol\", axis = 1)\n",
        "\n",
        "\n",
        "# Combine the two seperated DataFrames into one for usability\n",
        "df_portfolio = pd.concat([AGG, SPY], axis = 1, keys = [\"AGG\", \"SPY\"])\n",
        "\n",
        "\n",
        "df_portfolio"
      ]
    },
    {
      "cell_type": "code",
      "execution_count": null,
      "metadata": {
        "id": "8vJQ0aKEhUaM"
      },
      "outputs": [],
      "source": [
        "# `df_portfolio` contains a singular row for both AGG & SPY's closing price\n",
        "# thus we can use indexing to retrieve the value (1 row = index value 0)\n",
        "\n",
        "agg_close_price = df_portfolio[\"AGG\"][\"close\"][0]\n",
        "print(f\"Current AGG closing price: ${agg_close_price}\")\n",
        "\n",
        "\n",
        "spy_close_price = df_portfolio[\"SPY\"][\"close\"][0]\n",
        "print(f\"Current SPY closing price: ${spy_close_price}\")"
      ]
    },
    {
      "cell_type": "code",
      "execution_count": null,
      "metadata": {
        "id": "vt8hLtekhUaM"
      },
      "outputs": [],
      "source": [
        "my_agg_value = my_agg * agg_close_price\n",
        "my_spy_value = my_spy * spy_close_price\n",
        "\n",
        "\n",
        "print(f\"The current value of your {my_agg} AGG shares is ${my_agg_value:0.2f}\")\n",
        "print(f\"The current value of your {my_spy} SPY shares is ${my_spy_value:0.2f}\")"
      ]
    },
    {
      "cell_type": "markdown",
      "metadata": {
        "id": "KZphOwtbhUaM"
      },
      "source": [
        "### Savings Health Analysis"
      ]
    },
    {
      "cell_type": "code",
      "execution_count": null,
      "metadata": {
        "id": "ywEiuukMhUaM"
      },
      "outputs": [],
      "source": [
        "# The \"total value\" of crypto in dollars\n",
        "crypto_tv = my_btc_value + my_eth_value\n",
        "print(crypto_tv)\n",
        "\n",
        "# The \"total value\" of stock in dollars\n",
        "stock_tv = my_agg_value + my_spy_value\n",
        "print(stock_tv)\n",
        "\n",
        "\n",
        "# Marshalling the `amounts` of Crypto and Stock ordered for a DataFrame\n",
        "savings_data = [crypto_tv, stock_tv]\n",
        "# The provided `index` parameter names the two columns, crypto and stock/bond,\n",
        "# respectively\n",
        "savings_df = pd.DataFrame(savings_data,\n",
        "                          columns = [\"amount\"],\n",
        "                          index = [\"crypto\", \"stock/bond\"])\n",
        "\n",
        "\n",
        "display(savings_df)"
      ]
    },
    {
      "cell_type": "code",
      "execution_count": null,
      "metadata": {
        "id": "5P2o96rUhUaN"
      },
      "outputs": [],
      "source": [
        "savings_pie = savings_df.plot(kind = \"pie\",\n",
        "                              title = \"Asset Allocation\",\n",
        "                              shadow = True,\n",
        "                              subplots = True)"
      ]
    },
    {
      "cell_type": "code",
      "execution_count": null,
      "metadata": {
        "id": "t1-YCU-9hUaN"
      },
      "outputs": [],
      "source": [
        "# Generally prescribed financial advice suggest that a emergency fund should\n",
        "# be three months of one's income\n",
        "emergency_fund = monthly_income * 3\n",
        "\n",
        "\n",
        "total_savings = crypto_tv + stock_tv\n",
        "# Simple test cases to evaluate `if` statement correctness\n",
        "# total_savings = monthly_income * 3\n",
        "# total_savings = 420\n",
        "print(total_savings)\n",
        "\n",
        "\n",
        "# Convey to a user their status in saving for an Emergency Budget\n",
        "if total_savings > emergency_fund:\n",
        "  print(\"Congratulations! Your total savings is greater than your emergency fund goal 🎉\")\n",
        "elif total_savings == emergency_fund:\n",
        "  print(\"Congratulations! You've just reached your emergency fund goal ✅\")\n",
        "else:\n",
        "  print(f\"Amount until goal is reached: ${(emergency_fund - total_savings):0.2f}\")"
      ]
    },
    {
      "cell_type": "markdown",
      "metadata": {
        "id": "v6z0E0bJhUaN"
      },
      "source": [
        "## Part 2 - Retirement Planning\n",
        "\n",
        "### Monte Carlo Simulation"
      ]
    },
    {
      "cell_type": "code",
      "execution_count": 17,
      "metadata": {
        "id": "32OyVeN0hUaN",
        "colab": {
          "base_uri": "https://localhost:8080/",
          "height": 245
        },
        "outputId": "58cf5e48-d063-4ce5-8689-a98f6dfe584e"
      },
      "outputs": [
        {
          "output_type": "error",
          "ename": "NameError",
          "evalue": "ignored",
          "traceback": [
            "\u001b[0;31m---------------------------------------------------------------------------\u001b[0m",
            "\u001b[0;31mNameError\u001b[0m                                 Traceback (most recent call last)",
            "\u001b[0;32m<ipython-input-17-bae5738a1e8e>\u001b[0m in \u001b[0;36m<cell line: 5>\u001b[0;34m()\u001b[0m\n\u001b[1;32m      3\u001b[0m \u001b[0;34m\u001b[0m\u001b[0m\n\u001b[1;32m      4\u001b[0m \u001b[0;31m# Get 5 years' worth of historical data for SPY and AGG\u001b[0m\u001b[0;34m\u001b[0m\u001b[0;34m\u001b[0m\u001b[0m\n\u001b[0;32m----> 5\u001b[0;31m five_year_stock_portfolio_df = alpaca.get_bars(\n\u001b[0m\u001b[1;32m      6\u001b[0m     \u001b[0mtickers\u001b[0m\u001b[0;34m,\u001b[0m\u001b[0;34m\u001b[0m\u001b[0;34m\u001b[0m\u001b[0m\n\u001b[1;32m      7\u001b[0m     \u001b[0mtimeframe\u001b[0m\u001b[0;34m,\u001b[0m\u001b[0;34m\u001b[0m\u001b[0;34m\u001b[0m\u001b[0m\n",
            "\u001b[0;31mNameError\u001b[0m: name 'alpaca' is not defined"
          ]
        }
      ],
      "source": [
        "# Five years worth of data to create an effective Monte Carlo simulation\n",
        "start_date = pd.Timestamp('2018-10-23', tz='America/New_York').isoformat()\n",
        "end_date = pd.Timestamp('2023-10-23', tz='America/New_York').isoformat()\n",
        "\n",
        "\n",
        "five_year_stock_portfolio_df = alpaca.get_bars(\n",
        "    tickers,\n",
        "    timeframe,\n",
        "    start = start_date,\n",
        "    end = end_date\n",
        ").df\n",
        "\n",
        "\n",
        "# Seperate the combined given data as located in `df_portfolio` into two\n",
        "# DataFrame objects to improve formatting of the resulting DataFrame\n",
        "AGG = five_year_stock_portfolio_df[five_year_stock_portfolio_df[\"symbol\"] == \"AGG\"].drop(\"symbol\", axis = 1)\n",
        "SPY = five_year_stock_portfolio_df[five_year_stock_portfolio_df[\"symbol\"] == \"SPY\"].drop(\"symbol\", axis = 1)\n",
        "\n",
        "\n",
        "# Combine the two seperated DataFrames into one for usability\n",
        "five_year_stock_portfolio_df = pd.concat([AGG, SPY], axis = 1, keys = [\"AGG\", \"SPY\"])\n",
        "\n",
        "\n",
        "five_year_stock_portfolio_df.sample(5)"
      ]
    },
    {
      "cell_type": "code",
      "execution_count": null,
      "metadata": {
        "id": "Iwz32GRJhUaN"
      },
      "outputs": [],
      "source": [
        "# Configuring simulation to forecast 30 years of cumulative returns\n",
        "sim = MCSimulation(five_year_stock_portfolio_df,\n",
        "                   weights = [.40, .60],\n",
        "                   num_simulation = 500,\n",
        "                   num_trading_days = 252 * 30)"
      ]
    },
    {
      "cell_type": "code",
      "source": [
        "sim.calc_cumulative_return()"
      ],
      "metadata": {
        "id": "Tw6PkqRo85-p"
      },
      "execution_count": null,
      "outputs": []
    },
    {
      "cell_type": "code",
      "execution_count": null,
      "metadata": {
        "id": "VTPbHE77hUaO"
      },
      "outputs": [],
      "source": [
        "sim.plot_simulation()"
      ]
    },
    {
      "cell_type": "code",
      "execution_count": null,
      "metadata": {
        "id": "b7pD41AGhUaO"
      },
      "outputs": [],
      "source": [
        "sim.plot_distribution()"
      ]
    },
    {
      "cell_type": "markdown",
      "metadata": {
        "id": "3YxxOQ3WhUaO"
      },
      "source": [
        "### Retirement Analysis"
      ]
    },
    {
      "cell_type": "code",
      "execution_count": null,
      "metadata": {
        "id": "WJfX2QjRhUaO"
      },
      "outputs": [],
      "source": [
        "sim.summarize_cumulative_return()"
      ]
    },
    {
      "cell_type": "markdown",
      "metadata": {
        "id": "0m0lMw1thUaO"
      },
      "source": [
        "### Calculate the expected portfolio return at the `95%` lower and upper confidence intervals based on a `$20,000` initial investment."
      ]
    },
    {
      "cell_type": "code",
      "execution_count": null,
      "metadata": {
        "id": "ziijot2whUaO"
      },
      "outputs": [],
      "source": [
        "initial_investment = 20000\n",
        "\n",
        "\n",
        "sim.confidence_interval\n",
        "#print(sim.confidence_interval)\n",
        "\n",
        "\n",
        "# Confidence intervalues are provided in a series, thus we have to use the\n",
        "# key values for the given series to access the calculated CI Upper/Lower\n",
        "ci_lower = initial_investment * sim.confidence_interval[\"95% CI Lower\"]\n",
        "ci_upper = initial_investment * sim.confidence_interval[\"95% CI Upper\"]\n",
        "print(f\"There is a 95% chance that an initial investment of \\n ${initial_investment} in the portfolio\"\n",
        "      f\"over the next 30 years will end \\n within in the range of\"\n",
        "      f\"${ci_lower:0.2f} and ${ci_upper:0.2f}\")"
      ]
    },
    {
      "cell_type": "markdown",
      "metadata": {
        "id": "X_V_MnDFhUaO"
      },
      "source": [
        "### Calculate the expected portfolio return at the `95%` lower and upper confidence intervals based on a `50%` increase in the initial investment."
      ]
    },
    {
      "cell_type": "code",
      "execution_count": null,
      "metadata": {
        "id": "YP6RDSwlhUaP"
      },
      "outputs": [],
      "source": [
        "initial_investment = 20000 * 1.5\n",
        "\n",
        "\n",
        "ci_lower = initial_investment * sim.confidence_interval[\"95% CI Lower\"]\n",
        "ci_upper = initial_investment * sim.confidence_interval[\"95% CI Upper\"]\n",
        "print(f\"There is a 95% chance that an initial investment of ${initial_investment} in the portfolio\"\n",
        "      f\" over the next 30 years will end within in the range of\"\n",
        "      f\" ${ci_lower:0.2f} and ${ci_upper:0.2f}\")"
      ]
    }
  ],
  "metadata": {
    "kernelspec": {
      "display_name": "Python 3 (ipykernel)",
      "language": "python",
      "name": "python3"
    },
    "language_info": {
      "codemirror_mode": {
        "name": "ipython",
        "version": 3
      },
      "file_extension": ".py",
      "mimetype": "text/x-python",
      "name": "python",
      "nbconvert_exporter": "python",
      "pygments_lexer": "ipython3",
      "version": "3.11.4"
    },
    "nteract": {
      "version": "0.28.0"
    },
    "colab": {
      "provenance": []
    }
  },
  "nbformat": 4,
  "nbformat_minor": 0
}